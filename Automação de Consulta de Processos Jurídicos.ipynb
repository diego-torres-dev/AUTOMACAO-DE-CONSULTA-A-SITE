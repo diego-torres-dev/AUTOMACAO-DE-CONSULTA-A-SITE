{
 "cells": [
  {
   "cell_type": "markdown",
   "id": "c6a9c9df",
   "metadata": {},
   "source": [
    "# Automação de Consulta de Processos Jurídicos"
   ]
  },
  {
   "cell_type": "markdown",
   "id": "80230923",
   "metadata": {},
   "source": [
    "## Contexto"
   ]
  },
  {
   "cell_type": "markdown",
   "id": "ff729f00",
   "metadata": {},
   "source": [
    "Este notebook apresenta um processo de automação de preenchimento de um formulário de pesquisa de processos jurídicos de um site fictício. Essencialmente, o processo envolve duas etapas: escolha de um Estado e preenchimento do formulário de busca de processos."
   ]
  },
  {
   "cell_type": "markdown",
   "id": "0071401e",
   "metadata": {},
   "source": [
    "## Guia do Processo"
   ]
  },
  {
   "cell_type": "markdown",
   "id": "85f2b83a",
   "metadata": {},
   "source": [
    "Para executar esta automação, vamos seguir este passo-a-passo:\n",
    "\n",
    "1. Abrir um navegador Google Chrome\n",
    "\n",
    "2. Abrir a página de busca (index.html)\n",
    "\n",
    "3. Selecionar um estado\n",
    "\n",
    "4. Mudar de aba\n",
    "\n",
    "5. Preencher o formulário de busca\n",
    "\n",
    "6. Enviar o formulário\n",
    "\n",
    "7. Confirmar o alerta após envio do formulário\n",
    "\n",
    "8. Aguardar resultado da busca\n",
    "\n",
    "9. Atualizar __status__ do processo na base de processos\n",
    "\n",
    "10. Exportar planilha com dados atualizados"
   ]
  },
  {
   "cell_type": "markdown",
   "id": "8869bad7",
   "metadata": {},
   "source": [
    "## Importações"
   ]
  },
  {
   "cell_type": "code",
   "execution_count": 1,
   "id": "93f75b57",
   "metadata": {},
   "outputs": [],
   "source": [
    "# Importa a biblioteca time\n",
    "import time\n",
    "\n",
    "# Importa a biblioteca os\n",
    "import os\n",
    "\n",
    "# Importa o pandas\n",
    "import pandas as pd\n",
    "\n",
    "# Importa o webdriver\n",
    "from selenium import webdriver\n",
    "\n",
    "# Importa o Service para especificarmos o caminho do webdriver\n",
    "from selenium.webdriver.chrome.service import Service\n",
    "\n",
    "# Importa o web driver manager para instalarmos o webdriver compatível com a versão do Chrome\n",
    "from webdriver_manager.chrome import ChromeDriverManager\n",
    "\n",
    "# Instala o Chrome Driver e fornece o caminho do executável\n",
    "servico = Service(ChromeDriverManager().install())\n",
    "\n",
    "# Importa a classe By para localizar elementos\n",
    "from selenium.webdriver.common.by import By\n",
    "\n",
    "# Importa o Action Chains para trabalharmos com drop-downs dinâmicos\n",
    "from selenium.webdriver import ActionChains\n",
    "\n",
    "# Importa o Alert para trabalharmos com alertas\n",
    "from selenium.webdriver.common.alert import Alert\n",
    "\n",
    "# Importa o expected conditions para esperar elementos aparecerem\n",
    "from selenium.webdriver.support.ui import WebDriverWait\n",
    "from selenium.webdriver.support import expected_conditions as EC"
   ]
  },
  {
   "cell_type": "markdown",
   "id": "db8df769",
   "metadata": {},
   "source": [
    "## Importação da Base de Dados"
   ]
  },
  {
   "cell_type": "code",
   "execution_count": 2,
   "id": "6681c228",
   "metadata": {},
   "outputs": [
    {
     "data": {
      "text/html": [
       "<div>\n",
       "<style scoped>\n",
       "    .dataframe tbody tr th:only-of-type {\n",
       "        vertical-align: middle;\n",
       "    }\n",
       "\n",
       "    .dataframe tbody tr th {\n",
       "        vertical-align: top;\n",
       "    }\n",
       "\n",
       "    .dataframe thead th {\n",
       "        text-align: right;\n",
       "    }\n",
       "</style>\n",
       "<table border=\"1\" class=\"dataframe\">\n",
       "  <thead>\n",
       "    <tr style=\"text-align: right;\">\n",
       "      <th></th>\n",
       "      <th>Nome</th>\n",
       "      <th>Advogado</th>\n",
       "      <th>Processo</th>\n",
       "      <th>Cidade</th>\n",
       "      <th>Status</th>\n",
       "    </tr>\n",
       "  </thead>\n",
       "  <tbody>\n",
       "    <tr>\n",
       "      <th>0</th>\n",
       "      <td>Márcio Diogo Almada</td>\n",
       "      <td>Rayssa Márcia Castro</td>\n",
       "      <td>PC6592</td>\n",
       "      <td>Distrito Federal</td>\n",
       "      <td>NaN</td>\n",
       "    </tr>\n",
       "    <tr>\n",
       "      <th>1</th>\n",
       "      <td>Antonio Renato Fábio Silva</td>\n",
       "      <td>Letícia Valentina Camila da Rocha</td>\n",
       "      <td>EB3792</td>\n",
       "      <td>Rio de Janeiro</td>\n",
       "      <td>NaN</td>\n",
       "    </tr>\n",
       "    <tr>\n",
       "      <th>2</th>\n",
       "      <td>Igor Lorenzo Ramos</td>\n",
       "      <td>Maria Fátima da Costa</td>\n",
       "      <td>MM1043</td>\n",
       "      <td>Rio de Janeiro</td>\n",
       "      <td>NaN</td>\n",
       "    </tr>\n",
       "    <tr>\n",
       "      <th>3</th>\n",
       "      <td>Iago Thomas Vitor Duarte</td>\n",
       "      <td>Marcela Juliana Vitória Moraes</td>\n",
       "      <td>PC5197</td>\n",
       "      <td>São Paulo</td>\n",
       "      <td>NaN</td>\n",
       "    </tr>\n",
       "    <tr>\n",
       "      <th>4</th>\n",
       "      <td>Regina Juliana Carolina Novaes</td>\n",
       "      <td>Tiago Lorenzo Gabriel Alves</td>\n",
       "      <td>PC5030</td>\n",
       "      <td>Distrito Federal</td>\n",
       "      <td>NaN</td>\n",
       "    </tr>\n",
       "  </tbody>\n",
       "</table>\n",
       "</div>"
      ],
      "text/plain": [
       "                             Nome                           Advogado Processo  \\\n",
       "0             Márcio Diogo Almada               Rayssa Márcia Castro   PC6592   \n",
       "1      Antonio Renato Fábio Silva  Letícia Valentina Camila da Rocha   EB3792   \n",
       "2              Igor Lorenzo Ramos              Maria Fátima da Costa   MM1043   \n",
       "3        Iago Thomas Vitor Duarte     Marcela Juliana Vitória Moraes   PC5197   \n",
       "4  Regina Juliana Carolina Novaes        Tiago Lorenzo Gabriel Alves   PC5030   \n",
       "\n",
       "             Cidade  Status  \n",
       "0  Distrito Federal     NaN  \n",
       "1    Rio de Janeiro     NaN  \n",
       "2    Rio de Janeiro     NaN  \n",
       "3         São Paulo     NaN  \n",
       "4  Distrito Federal     NaN  "
      ]
     },
     "execution_count": 2,
     "metadata": {},
     "output_type": "execute_result"
    }
   ],
   "source": [
    "# Importa a base de dados\n",
    "df_processos = pd.read_excel('Processos.xlsx')\n",
    "\n",
    "# Exibe as cinco primeiras linhas do dataframe\n",
    "df_processos.head()"
   ]
  },
  {
   "cell_type": "markdown",
   "id": "5000fdf4",
   "metadata": {},
   "source": [
    "## Criação do navegador"
   ]
  },
  {
   "cell_type": "code",
   "execution_count": 3,
   "id": "680c064d",
   "metadata": {},
   "outputs": [],
   "source": [
    "# Cria um navegdor Google Chrome\n",
    "navegador = webdriver.Chrome(service=servico)"
   ]
  },
  {
   "cell_type": "markdown",
   "id": "70d2e4ab",
   "metadata": {},
   "source": [
    "## Abrir a Página de Buscas"
   ]
  },
  {
   "cell_type": "code",
   "execution_count": 4,
   "id": "ec2e338a",
   "metadata": {},
   "outputs": [],
   "source": [
    "# Caminho deste notebook\n",
    "caminho_nb = os.getcwd()\n",
    "\n",
    "# Arquivo que desejamos abrir\n",
    "pagina_busca_estado = 'index.html'\n",
    "\n",
    "# Caminho completo da página\n",
    "caminho_pagina_busca_estado = os.path.join(caminho_nb, pagina_busca_estado)\n",
    "\n",
    "# Abre a página de busca por estado\n",
    "navegador.get(caminho_pagina_busca_estado)\n",
    "\n",
    "# Aba original\n",
    "aba_original = navegador.window_handles[0]"
   ]
  },
  {
   "cell_type": "markdown",
   "id": "c9e84c34",
   "metadata": {},
   "source": [
    "## Selecionar um Estado e Preencher Formulário"
   ]
  },
  {
   "cell_type": "code",
   "execution_count": 5,
   "id": "5dc91500",
   "metadata": {},
   "outputs": [],
   "source": [
    "# Percorre cada uma das linhas do dataframe\n",
    "for linha in df_processos.index: \n",
    "    # Volta para a aba original\n",
    "    navegador.switch_to.window(aba_original)\n",
    "    \n",
    "    # Localiza o menu\n",
    "    menu_estados = navegador.find_element(By.CSS_SELECTOR, '.dropdown-menu .btn')\n",
    "\n",
    "    # Posiciona o mouse sobre o menu\n",
    "    ActionChains(navegador).move_to_element(menu_estados).perform()\n",
    "\n",
    "    # Aguarda 1s\n",
    "    time.sleep(1)\n",
    "    \n",
    "    # Cidade que desejamos selecionar\n",
    "    cidade = df_processos.loc[linha, 'Cidade']\n",
    "    \n",
    "    # Localiza a cidade e clica na opção\n",
    "    navegador.find_element(By.PARTIAL_LINK_TEXT, cidade).click()\n",
    "    \n",
    "    # Nova aba\n",
    "    nova_aba = navegador.window_handles[1]\n",
    "    \n",
    "    # Muda para a nova aba\n",
    "    navegador.switch_to.window(nova_aba)\n",
    "    \n",
    "    # Localiza o campo de nome e preenche ele\n",
    "    navegador.find_element(By.ID, 'nome').send_keys(df_processos.loc[linha, \"Nome\"])\n",
    "\n",
    "    # Localiza o campo de advogado e preenche ele\n",
    "    navegador.find_element(By.ID, 'advogado').send_keys(df_processos.loc[linha, \"Advogado\"])\n",
    "\n",
    "    # Localiza o campo número do processo e preenche ele\n",
    "    navegador.find_element(By.ID, 'numero').send_keys(df_processos.loc[linha, \"Processo\"])\n",
    "    \n",
    "    # Localiza o botão de enviar formulário e clica nele\n",
    "    navegador.find_element(By.CSS_SELECTOR, '#formulario .btn.registerbtn').click()\n",
    "    \n",
    "    # Seleciona o alerta e aceita ele\n",
    "    alerta = Alert(navegador)\n",
    "\n",
    "    # Aceita o alerta\n",
    "    alerta.accept()\n",
    "    \n",
    "    # Espera pelo alerta, aguardando 1s a cada iteração\n",
    "    while True:\n",
    "        try:\n",
    "            alerta = navegador.switch_to.alert\n",
    "            break\n",
    "        except:\n",
    "            time.sleep(1)\n",
    "\n",
    "    # Extrai o texto do alerta\n",
    "    texto_alerta = alerta.text\n",
    "\n",
    "    if texto_alerta:\n",
    "        if 'Processo encontrado' in texto_alerta:\n",
    "            alerta.accept()\n",
    "            df_processos.loc[linha, 'Status'] = 'Processo Encontrado' \n",
    "        else:\n",
    "            alerta.accept()\n",
    "            df_processos.loc[linha, 'Status'] = 'Processo não Encontrado'\n",
    "    \n",
    "    # Fecha a aba atual\n",
    "    navegador.close()"
   ]
  },
  {
   "cell_type": "code",
   "execution_count": 6,
   "id": "9c342dd2",
   "metadata": {},
   "outputs": [],
   "source": [
    "# Fecha o navegador\n",
    "navegador.quit()"
   ]
  },
  {
   "cell_type": "markdown",
   "id": "90f23675",
   "metadata": {},
   "source": [
    "## Dados Atualizados"
   ]
  },
  {
   "cell_type": "code",
   "execution_count": 7,
   "id": "1770113f",
   "metadata": {},
   "outputs": [
    {
     "data": {
      "text/html": [
       "<div>\n",
       "<style scoped>\n",
       "    .dataframe tbody tr th:only-of-type {\n",
       "        vertical-align: middle;\n",
       "    }\n",
       "\n",
       "    .dataframe tbody tr th {\n",
       "        vertical-align: top;\n",
       "    }\n",
       "\n",
       "    .dataframe thead th {\n",
       "        text-align: right;\n",
       "    }\n",
       "</style>\n",
       "<table border=\"1\" class=\"dataframe\">\n",
       "  <thead>\n",
       "    <tr style=\"text-align: right;\">\n",
       "      <th></th>\n",
       "      <th>Nome</th>\n",
       "      <th>Advogado</th>\n",
       "      <th>Processo</th>\n",
       "      <th>Cidade</th>\n",
       "      <th>Status</th>\n",
       "    </tr>\n",
       "  </thead>\n",
       "  <tbody>\n",
       "    <tr>\n",
       "      <th>0</th>\n",
       "      <td>Márcio Diogo Almada</td>\n",
       "      <td>Rayssa Márcia Castro</td>\n",
       "      <td>PC6592</td>\n",
       "      <td>Distrito Federal</td>\n",
       "      <td>Processo não Encontrado</td>\n",
       "    </tr>\n",
       "    <tr>\n",
       "      <th>1</th>\n",
       "      <td>Antonio Renato Fábio Silva</td>\n",
       "      <td>Letícia Valentina Camila da Rocha</td>\n",
       "      <td>EB3792</td>\n",
       "      <td>Rio de Janeiro</td>\n",
       "      <td>Processo não Encontrado</td>\n",
       "    </tr>\n",
       "    <tr>\n",
       "      <th>2</th>\n",
       "      <td>Igor Lorenzo Ramos</td>\n",
       "      <td>Maria Fátima da Costa</td>\n",
       "      <td>MM1043</td>\n",
       "      <td>Rio de Janeiro</td>\n",
       "      <td>Processo Encontrado</td>\n",
       "    </tr>\n",
       "    <tr>\n",
       "      <th>3</th>\n",
       "      <td>Iago Thomas Vitor Duarte</td>\n",
       "      <td>Marcela Juliana Vitória Moraes</td>\n",
       "      <td>PC5197</td>\n",
       "      <td>São Paulo</td>\n",
       "      <td>Processo não Encontrado</td>\n",
       "    </tr>\n",
       "    <tr>\n",
       "      <th>4</th>\n",
       "      <td>Regina Juliana Carolina Novaes</td>\n",
       "      <td>Tiago Lorenzo Gabriel Alves</td>\n",
       "      <td>PC5030</td>\n",
       "      <td>Distrito Federal</td>\n",
       "      <td>Processo não Encontrado</td>\n",
       "    </tr>\n",
       "  </tbody>\n",
       "</table>\n",
       "</div>"
      ],
      "text/plain": [
       "                             Nome                           Advogado Processo  \\\n",
       "0             Márcio Diogo Almada               Rayssa Márcia Castro   PC6592   \n",
       "1      Antonio Renato Fábio Silva  Letícia Valentina Camila da Rocha   EB3792   \n",
       "2              Igor Lorenzo Ramos              Maria Fátima da Costa   MM1043   \n",
       "3        Iago Thomas Vitor Duarte     Marcela Juliana Vitória Moraes   PC5197   \n",
       "4  Regina Juliana Carolina Novaes        Tiago Lorenzo Gabriel Alves   PC5030   \n",
       "\n",
       "             Cidade                   Status  \n",
       "0  Distrito Federal  Processo não Encontrado  \n",
       "1    Rio de Janeiro  Processo não Encontrado  \n",
       "2    Rio de Janeiro      Processo Encontrado  \n",
       "3         São Paulo  Processo não Encontrado  \n",
       "4  Distrito Federal  Processo não Encontrado  "
      ]
     },
     "execution_count": 7,
     "metadata": {},
     "output_type": "execute_result"
    }
   ],
   "source": [
    "# Exibe o dataframe\n",
    "df_processos.head()"
   ]
  },
  {
   "cell_type": "markdown",
   "id": "7c4d177a",
   "metadata": {},
   "source": [
    "## Exportar Planilha Atualizada"
   ]
  },
  {
   "cell_type": "code",
   "execution_count": 8,
   "id": "1fe50408",
   "metadata": {},
   "outputs": [],
   "source": [
    "# Cria uma nova planilha do excel com os dados atualizados\n",
    "df_processos.to_excel('Processos Atualizados.xlsx')"
   ]
  }
 ],
 "metadata": {
  "kernelspec": {
   "display_name": "Python 3 (ipykernel)",
   "language": "python",
   "name": "python3"
  },
  "language_info": {
   "codemirror_mode": {
    "name": "ipython",
    "version": 3
   },
   "file_extension": ".py",
   "mimetype": "text/x-python",
   "name": "python",
   "nbconvert_exporter": "python",
   "pygments_lexer": "ipython3",
   "version": "3.9.12"
  }
 },
 "nbformat": 4,
 "nbformat_minor": 5
}
