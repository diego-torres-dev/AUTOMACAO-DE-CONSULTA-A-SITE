{
 "cells": [
  {
   "cell_type": "markdown",
   "id": "c6a9c9df",
   "metadata": {},
   "source": [
    "# Automação de Consulta de Processos Jurídicos"
   ]
  },
  {
   "cell_type": "markdown",
   "id": "80230923",
   "metadata": {},
   "source": [
    "## Contexto"
   ]
  },
  {
   "cell_type": "markdown",
   "id": "ff729f00",
   "metadata": {},
   "source": [
    "Este notebook apresenta um processo de automação de preenchimento de um formulário de pesquisa de processos jurídicos de um site fictício. Essencialmente, o processo envolve duas etapas: escolha de um Estado e preenchimento do formulário de busca de processos."
   ]
  },
  {
   "cell_type": "markdown",
   "id": "0071401e",
   "metadata": {},
   "source": [
    "## Guia do Processo"
   ]
  },
  {
   "cell_type": "markdown",
   "id": "85f2b83a",
   "metadata": {},
   "source": [
    "Para executar esta automação, vamos seguir este passo-a-passo:\n",
    "\n",
    "1. Abrir um navegador Google Chrome\n",
    "\n",
    "2. Abrir a página de busca (index.html)\n",
    "\n",
    "3. Selecionar um estado\n",
    "\n",
    "4. Mudar de aba\n",
    "\n",
    "5. Preencher o formulário de busca\n",
    "\n",
    "6. Enviar o formulário\n",
    "\n",
    "7. Confirmar o alerta após envio do formulário\n",
    "\n",
    "8. Aguardar resultado da busca\n",
    "\n",
    "9. Tomar uma decisão com base no resultado"
   ]
  },
  {
   "cell_type": "markdown",
   "id": "8869bad7",
   "metadata": {},
   "source": [
    "## Importações"
   ]
  },
  {
   "cell_type": "code",
   "execution_count": 1,
   "id": "93f75b57",
   "metadata": {},
   "outputs": [],
   "source": [
    "# Importa a biblioteca time\n",
    "import time\n",
    "\n",
    "# Importa a biblioteca os\n",
    "import os\n",
    "\n",
    "# Importa o pandas\n",
    "import pandas as pd\n",
    "\n",
    "# Importa o webdriver\n",
    "from selenium import webdriver\n",
    "\n",
    "# Importa o Service para especificarmos o caminho do webdriver\n",
    "from selenium.webdriver.chrome.service import Service\n",
    "\n",
    "# Importa o web driver manager para instalarmos o webdriver compatível com a versão do Chrome\n",
    "from webdriver_manager.chrome import ChromeDriverManager\n",
    "\n",
    "# Instala o Chrome Driver e fornece o caminho do executável\n",
    "servico = Service(ChromeDriverManager().install())\n",
    "\n",
    "# Importa a classe By para localizar elementos\n",
    "from selenium.webdriver.common.by import By\n",
    "\n",
    "# Importa o Action Chains para trabalharmos com drop-downs dinâmicos\n",
    "from selenium.webdriver import ActionChains\n",
    "\n",
    "# Importa o Alert para trabalharmos com alertas\n",
    "from selenium.webdriver.common.alert import Alert\n",
    "\n",
    "# Importa o expected conditions para esperar elementos aparecerem\n",
    "from selenium.webdriver.support.ui import WebDriverWait\n",
    "from selenium.webdriver.support import expected_conditions as EC"
   ]
  },
  {
   "cell_type": "markdown",
   "id": "5000fdf4",
   "metadata": {},
   "source": [
    "## Criação do navegador"
   ]
  },
  {
   "cell_type": "code",
   "execution_count": 2,
   "id": "680c064d",
   "metadata": {},
   "outputs": [],
   "source": [
    "# Cria um navegdor Google Chrome\n",
    "navegador = webdriver.Chrome(service=servico)"
   ]
  },
  {
   "cell_type": "markdown",
   "id": "db8df769",
   "metadata": {},
   "source": [
    "## Abrir Página de Busca do Estado"
   ]
  },
  {
   "cell_type": "code",
   "execution_count": 3,
   "id": "ec2e338a",
   "metadata": {},
   "outputs": [],
   "source": [
    "# Caminho deste notebook\n",
    "caminho_nb = os.getcwd()\n",
    "\n",
    "# Arquivo que desejamos abrir\n",
    "pagina_busca_estado = 'index.html'\n",
    "\n",
    "# Caminho completo da página\n",
    "caminho_pagina_busca_estado = os.path.join(caminho_nb, pagina_busca_estado)\n",
    "\n",
    "# Abre a página de busca por estado\n",
    "navegador.get(caminho_pagina_busca_estado)"
   ]
  },
  {
   "cell_type": "markdown",
   "id": "c9e84c34",
   "metadata": {},
   "source": [
    "## Selecionar um Estado"
   ]
  },
  {
   "cell_type": "code",
   "execution_count": 4,
   "id": "5dc91500",
   "metadata": {},
   "outputs": [],
   "source": [
    "# Localiza o menu\n",
    "menu_estados = navegador.find_element(By.CSS_SELECTOR, '.dropdown-menu .btn')\n",
    "\n",
    "# Estado que desejamos selecionar (Rio de Janeiro)\n",
    "estado = navegador.find_element(By.CSS_SELECTOR, '.dropdown-menu .dropdown-content ul li a')\n",
    "\n",
    "# Posiciona o mouse sobre o menu\n",
    "ActionChains(navegador).move_to_element(menu_estados).perform()\n",
    "\n",
    "# Aguarda 5s\n",
    "time.sleep(5)\n",
    "\n",
    "# Clica no estado desejado\n",
    "estado.click()"
   ]
  },
  {
   "cell_type": "markdown",
   "id": "83b0d519",
   "metadata": {},
   "source": [
    "## Mudar de Aba"
   ]
  },
  {
   "cell_type": "code",
   "execution_count": 5,
   "id": "bf6bf669",
   "metadata": {},
   "outputs": [],
   "source": [
    "# Muda para a aba do formulário\n",
    "nova_aba = navegador.window_handles[1]\n",
    "navegador.switch_to.window(nova_aba)"
   ]
  },
  {
   "cell_type": "markdown",
   "id": "3f98d105",
   "metadata": {},
   "source": [
    "## Preencher o Formulário de Busca"
   ]
  },
  {
   "cell_type": "code",
   "execution_count": 6,
   "id": "10598eb8",
   "metadata": {},
   "outputs": [],
   "source": [
    "# Localiza o campo de nome e preenche ele\n",
    "navegador.find_element(By.ID, 'nome').send_keys('Diego Moura Torres')\n",
    "\n",
    "# Localiza o campo de advogado e preenche ele\n",
    "navegador.find_element(By.ID, 'advogado').send_keys('Maria Elza Liz Porto')\n",
    "\n",
    "# Localiza o campo número do processo e preenche ele\n",
    "navegador.find_element(By.ID, 'numero').send_keys('10')"
   ]
  },
  {
   "cell_type": "markdown",
   "id": "3efaf319",
   "metadata": {},
   "source": [
    "## Enviar o Formulário"
   ]
  },
  {
   "cell_type": "code",
   "execution_count": 7,
   "id": "edaf1ebe",
   "metadata": {},
   "outputs": [],
   "source": [
    "# Localiza o botão de enviar formulário e clica nele\n",
    "navegador.find_element(By.CSS_SELECTOR, '#formulario .btn.registerbtn').click()"
   ]
  },
  {
   "cell_type": "markdown",
   "id": "ff0f96ea",
   "metadata": {},
   "source": [
    "## Confirmar o Alerta"
   ]
  },
  {
   "cell_type": "code",
   "execution_count": 8,
   "id": "9897c2ca",
   "metadata": {},
   "outputs": [],
   "source": [
    "# Seleciona o alerta e aceita ele\n",
    "alerta = Alert(navegador)\n",
    "\n",
    "# Aceita o alerta\n",
    "alerta.accept()"
   ]
  },
  {
   "cell_type": "markdown",
   "id": "197df2e3",
   "metadata": {},
   "source": [
    "## Aguardar Resultado e Reagir"
   ]
  },
  {
   "cell_type": "code",
   "execution_count": 9,
   "id": "e802ee2e",
   "metadata": {},
   "outputs": [
    {
     "name": "stdout",
     "output_type": "stream",
     "text": [
      "Processo encontrado!\n"
     ]
    }
   ],
   "source": [
    "# Espera 15s pelo alerta\n",
    "try:\n",
    "    # Tenta localizar o alerta\n",
    "    alerta = WebDriverWait(navegador, 20).until(EC.alert_is_present())\n",
    "\n",
    "    # Aguarda 1s\n",
    "    time.sleep(1)\n",
    "\n",
    "    # Extrai o texto do alerta\n",
    "    texto_alerta = alerta.text\n",
    "    \n",
    "    if texto_alerta:\n",
    "        if 'Processo encontrado' in texto_alerta:\n",
    "            alerta.accept()\n",
    "            print('Processo encontrado!')\n",
    "        else:\n",
    "            print('Nenhum processo encontrado!')\n",
    "    \n",
    "except:\n",
    "    print('Alerta não encontrado')"
   ]
  }
 ],
 "metadata": {
  "kernelspec": {
   "display_name": "Python 3 (ipykernel)",
   "language": "python",
   "name": "python3"
  },
  "language_info": {
   "codemirror_mode": {
    "name": "ipython",
    "version": 3
   },
   "file_extension": ".py",
   "mimetype": "text/x-python",
   "name": "python",
   "nbconvert_exporter": "python",
   "pygments_lexer": "ipython3",
   "version": "3.9.12"
  }
 },
 "nbformat": 4,
 "nbformat_minor": 5
}
